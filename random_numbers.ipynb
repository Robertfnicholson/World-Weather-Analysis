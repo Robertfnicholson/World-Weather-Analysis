{
 "cells": [
  {
   "cell_type": "code",
   "execution_count": 1,
   "id": "883b9c54",
   "metadata": {},
   "outputs": [],
   "source": [
    "# Import the random module\n",
    "import random"
   ]
  },
  {
   "cell_type": "code",
   "execution_count": 2,
   "id": "4d60d749",
   "metadata": {},
   "outputs": [
    {
     "data": {
      "text/plain": [
       "46"
      ]
     },
     "execution_count": 2,
     "metadata": {},
     "output_type": "execute_result"
    }
   ],
   "source": [
    "random.randint(-90,90)"
   ]
  },
  {
   "cell_type": "code",
   "execution_count": 3,
   "id": "fbd139b2",
   "metadata": {},
   "outputs": [
    {
     "data": {
      "text/plain": [
       "0.12167635872949634"
      ]
     },
     "execution_count": 3,
     "metadata": {},
     "output_type": "execute_result"
    }
   ],
   "source": [
    "random.random()"
   ]
  },
  {
   "cell_type": "code",
   "execution_count": 4,
   "id": "98198b39",
   "metadata": {},
   "outputs": [
    {
     "data": {
      "text/plain": [
       "43.20138388693116"
      ]
     },
     "execution_count": 4,
     "metadata": {},
     "output_type": "execute_result"
    }
   ],
   "source": [
    "random_number = random.randint(-90,89) + random.random()\n",
    "random_number"
   ]
  },
  {
   "cell_type": "code",
   "execution_count": 6,
   "id": "fcaf7961",
   "metadata": {},
   "outputs": [
    {
     "data": {
      "text/plain": [
       "[-79.13940542886186,\n",
       " -39.78698834892817,\n",
       " 63.17029101487018,\n",
       " -14.191980745750604,\n",
       " -42.64449178920741,\n",
       " -18.960593086653475,\n",
       " 83.66571855854144,\n",
       " -22.009409670538197,\n",
       " 78.03349621898457,\n",
       " 22.40561837392239]"
      ]
     },
     "execution_count": 6,
     "metadata": {},
     "output_type": "execute_result"
    }
   ],
   "source": [
    "# Create a function to produce random latitudes using the randint() function\n",
    "x = 1\n",
    "latitudes = []\n",
    "while x < 11:\n",
    "    random_lat = random.randint(-90, 89) + random.random()\n",
    "    latitudes.append(random_lat)\n",
    "    x += 1\n",
    "latitudes"
   ]
  },
  {
   "cell_type": "code",
   "execution_count": 7,
   "id": "47f74472",
   "metadata": {},
   "outputs": [
    {
     "data": {
      "text/plain": [
       "-60"
      ]
     },
     "execution_count": 7,
     "metadata": {},
     "output_type": "execute_result"
    }
   ],
   "source": [
    "random.randrange(-90, 90, step=1)"
   ]
  },
  {
   "cell_type": "code",
   "execution_count": 8,
   "id": "94f82d0b",
   "metadata": {},
   "outputs": [
    {
     "data": {
      "text/plain": [
       "39"
      ]
     },
     "execution_count": 8,
     "metadata": {},
     "output_type": "execute_result"
    }
   ],
   "source": [
    "random.randrange(-90, 90, step=3)"
   ]
  },
  {
   "cell_type": "code",
   "execution_count": 11,
   "id": "a4d94ade",
   "metadata": {},
   "outputs": [
    {
     "data": {
      "text/plain": [
       "-32.243923301274016"
      ]
     },
     "execution_count": 11,
     "metadata": {},
     "output_type": "execute_result"
    }
   ],
   "source": [
    "# Create a random latitude by using randrange() and random.random() function\n",
    "random_number2 = random.randrange(-90, 90, step=3) + random.random()\n",
    "random_number2"
   ]
  },
  {
   "cell_type": "code",
   "execution_count": 13,
   "id": "bed8bef4",
   "metadata": {},
   "outputs": [],
   "source": [
    "# Import the NumPy module\n",
    "import numpy as np"
   ]
  },
  {
   "cell_type": "code",
   "execution_count": 15,
   "id": "bbe72467",
   "metadata": {},
   "outputs": [
    {
     "data": {
      "text/plain": [
       "20.647111659689884"
      ]
     },
     "execution_count": 15,
     "metadata": {},
     "output_type": "execute_result"
    }
   ],
   "source": [
    "# Create a random latitude by using unifrom()function and the random function()\n",
    "np.random.uniform(-90.000,90.000)"
   ]
  },
  {
   "cell_type": "code",
   "execution_count": 16,
   "id": "7179709c",
   "metadata": {},
   "outputs": [
    {
     "data": {
      "text/plain": [
       "array([ 45.67846112,  66.97235494, -59.0838601 , -58.35151769,\n",
       "        87.55542753, -52.44841074, -74.29006277,  61.39158221,\n",
       "        34.95268898,  18.99004685,  35.29413467,  20.02623803,\n",
       "       -84.68589063,  36.56133334,  27.40594054,  87.85363278,\n",
       "        47.23320525, -70.0373321 ,  82.43846897,  65.44268669,\n",
       "       -14.05848714,  61.13613883,  78.84106982, -72.65002976,\n",
       "       -33.43585085,  56.48451572, -79.94561216,  56.22280065,\n",
       "        14.16446007,  23.88813913, -76.40456818,  -0.3830703 ,\n",
       "       -40.93000569,  26.09653536,  62.46784438,  30.41608423,\n",
       "       -79.32153251, -50.58140877,  79.42259215, -76.28382671,\n",
       "        44.06609086, -82.78040307, -21.17331293,  57.53911022,\n",
       "       -15.13783213,  27.73903505,  22.83284209,  50.98972625,\n",
       "        18.89048503, -51.36368027])"
      ]
     },
     "execution_count": 16,
     "metadata": {},
     "output_type": "execute_result"
    }
   ],
   "source": [
    "np.random.uniform(-90.000, 90.000, size=50)"
   ]
  },
  {
   "cell_type": "code",
   "execution_count": 17,
   "id": "cbf73857",
   "metadata": {},
   "outputs": [],
   "source": [
    "# Import timeit.\n",
    "import timeit"
   ]
  },
  {
   "cell_type": "code",
   "execution_count": 19,
   "id": "16a06cb4",
   "metadata": {},
   "outputs": [
    {
     "name": "stdout",
     "output_type": "stream",
     "text": [
      "10.1 µs ± 152 ns per loop (mean ± std. dev. of 7 runs, 100000 loops each)\n"
     ]
    }
   ],
   "source": [
    "# Use %timeit to time how long it takes to run this function to generate 1,500 random numbers\n",
    "%timeit np.random.uniform(-90.000, 90.000, size=1500)\n"
   ]
  },
  {
   "cell_type": "code",
   "execution_count": 21,
   "id": "2727ea4b",
   "metadata": {},
   "outputs": [
    {
     "name": "stdout",
     "output_type": "stream",
     "text": [
      "1.27 ms ± 8.78 µs per loop (mean ± std. dev. of 7 runs, 1000 loops each)\n"
     ]
    }
   ],
   "source": [
    "# Use %timeit to time how long it takes to run this while loop to generate 1,500 random numbers\n",
    "def latitudes(size):\n",
    "    latitudes = []\n",
    "    x = 0\n",
    "    while x < (size):\n",
    "        random_lat = random.randint(-90, 90) + random.random()\n",
    "        latitudes.append(random_lat)\n",
    "        x += 1\n",
    "    return latitudes\n",
    "# Call the function with 1500.\n",
    "%timeit latitudes(1500)"
   ]
  },
  {
   "cell_type": "code",
   "execution_count": 24,
   "id": "d3457718",
   "metadata": {},
   "outputs": [],
   "source": [
    "# Use %timeit to time how long it takes to run this for loop to generate 1,500 random numbers\n",
    "# def latitudes(size):\n",
    "  #  latitudes = []\n",
    "   # x = 0\n",
    "    #for x = size:\n",
    "     #   random_lat = random.randint(-90, 90) + random.random()\n",
    "      #  latitudes.append(random_lat)\n",
    "       # x += 1\n",
    "   # return latitudes\n",
    "# Call the function with 1500.\n",
    "# %timeit latitudes(1500)"
   ]
  },
  {
   "cell_type": "code",
   "execution_count": null,
   "id": "68c29899",
   "metadata": {},
   "outputs": [],
   "source": []
  }
 ],
 "metadata": {
  "kernelspec": {
   "display_name": "PythonData",
   "language": "python",
   "name": "pythondata"
  },
  "language_info": {
   "codemirror_mode": {
    "name": "ipython",
    "version": 3
   },
   "file_extension": ".py",
   "mimetype": "text/x-python",
   "name": "python",
   "nbconvert_exporter": "python",
   "pygments_lexer": "ipython3",
   "version": "3.7.11"
  }
 },
 "nbformat": 4,
 "nbformat_minor": 5
}
